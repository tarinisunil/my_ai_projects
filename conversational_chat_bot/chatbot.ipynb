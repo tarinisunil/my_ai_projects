{
 "cells": [
  {
   "cell_type": "code",
   "execution_count": 1,
   "id": "aa656255",
   "metadata": {},
   "outputs": [],
   "source": [
    "import os\n",
    "import requests\n",
    "from langchain_ollama.llms import OllamaLLM\n",
    "from langchain_core.prompts import ChatPromptTemplate\n",
    "from IPython.display import Markdown, display, update_display\n",
    "from openai import OpenAI\n",
    "from itertools import zip_longest\n",
    "import gradio as gr"
   ]
  },
  {
   "cell_type": "code",
   "execution_count": 6,
   "id": "7ebf7e93",
   "metadata": {},
   "outputs": [],
   "source": [
    "llama = OllamaLLM(model=\"llama3.2\", base_url=\"http://localhost:11434\")\n",
    "system_prompt = \"You are a helpful assistant that can answer questions and help with tasks.\""
   ]
  },
  {
   "cell_type": "code",
   "execution_count": 9,
   "id": "fe310486",
   "metadata": {},
   "outputs": [],
   "source": [
    "def chat(message, history):\n",
    "    user_prompt = [{\"role\": \"user\", \"content\": message}]\n",
    "    llmmessage= [{\"role\": \"system\", \"content\": system_prompt}] + history + user_prompt\n",
    "    response = llama.invoke(llmmessage)\n",
    "    return response\n"
   ]
  },
  {
   "cell_type": "code",
   "execution_count": 10,
   "id": "377fe100",
   "metadata": {},
   "outputs": [
    {
     "name": "stdout",
     "output_type": "stream",
     "text": [
      "* Running on local URL:  http://127.0.0.1:7862\n",
      "* To create a public link, set `share=True` in `launch()`.\n"
     ]
    },
    {
     "data": {
      "text/html": [
       "<div><iframe src=\"http://127.0.0.1:7862/\" width=\"100%\" height=\"500\" allow=\"autoplay; camera; microphone; clipboard-read; clipboard-write;\" frameborder=\"0\" allowfullscreen></iframe></div>"
      ],
      "text/plain": [
       "<IPython.core.display.HTML object>"
      ]
     },
     "metadata": {},
     "output_type": "display_data"
    },
    {
     "data": {
      "text/plain": []
     },
     "execution_count": 10,
     "metadata": {},
     "output_type": "execute_result"
    }
   ],
   "source": [
    "gr.ChatInterface(fn=chat, type=\"messages\").launch()"
   ]
  },
  {
   "cell_type": "code",
   "execution_count": 17,
   "id": "afef4d0e",
   "metadata": {},
   "outputs": [],
   "source": [
    "def chat2(message, history):\n",
    "    user_prompt = [{\"role\": \"user\", \"content\": message}]\n",
    "    llmmessage= [{\"role\": \"system\", \"content\": system_prompt}] + history + user_prompt\n",
    "    stream = llama.stream(llmmessage)\n",
    "    partial_response = \"\"\n",
    "    for chunk in stream:\n",
    "        partial_response += chunk\n",
    "        yield partial_response"
   ]
  },
  {
   "cell_type": "code",
   "execution_count": 18,
   "id": "5b04bb88",
   "metadata": {},
   "outputs": [
    {
     "name": "stdout",
     "output_type": "stream",
     "text": [
      "* Running on local URL:  http://127.0.0.1:7866\n",
      "* To create a public link, set `share=True` in `launch()`.\n"
     ]
    },
    {
     "data": {
      "text/html": [
       "<div><iframe src=\"http://127.0.0.1:7866/\" width=\"100%\" height=\"500\" allow=\"autoplay; camera; microphone; clipboard-read; clipboard-write;\" frameborder=\"0\" allowfullscreen></iframe></div>"
      ],
      "text/plain": [
       "<IPython.core.display.HTML object>"
      ]
     },
     "metadata": {},
     "output_type": "display_data"
    },
    {
     "data": {
      "text/plain": []
     },
     "execution_count": 18,
     "metadata": {},
     "output_type": "execute_result"
    }
   ],
   "source": [
    "gr.ChatInterface(fn=chat2, type=\"messages\").launch()"
   ]
  }
 ],
 "metadata": {
  "kernelspec": {
   "display_name": "llms",
   "language": "python",
   "name": "python3"
  },
  "language_info": {
   "codemirror_mode": {
    "name": "ipython",
    "version": 3
   },
   "file_extension": ".py",
   "mimetype": "text/x-python",
   "name": "python",
   "nbconvert_exporter": "python",
   "pygments_lexer": "ipython3",
   "version": "3.11.14"
  }
 },
 "nbformat": 4,
 "nbformat_minor": 5
}
